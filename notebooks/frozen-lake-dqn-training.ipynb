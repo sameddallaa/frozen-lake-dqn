{
 "cells": [
  {
   "cell_type": "code",
   "execution_count": 1,
   "id": "702929e7",
   "metadata": {},
   "outputs": [
    {
     "name": "stdout",
     "output_type": "stream",
     "text": [
      "Requirement already satisfied: gymnasium in /usr/local/lib/python3.11/dist-packages (0.29.0)\n",
      "Requirement already satisfied: numpy>=1.21.0 in /usr/local/lib/python3.11/dist-packages (from gymnasium) (1.26.4)\n",
      "Requirement already satisfied: cloudpickle>=1.2.0 in /usr/local/lib/python3.11/dist-packages (from gymnasium) (3.1.1)\n",
      "Requirement already satisfied: typing-extensions>=4.3.0 in /usr/local/lib/python3.11/dist-packages (from gymnasium) (4.14.0)\n",
      "Requirement already satisfied: farama-notifications>=0.0.1 in /usr/local/lib/python3.11/dist-packages (from gymnasium) (0.0.4)\n",
      "Requirement already satisfied: mkl_fft in /usr/local/lib/python3.11/dist-packages (from numpy>=1.21.0->gymnasium) (1.3.8)\n",
      "Requirement already satisfied: mkl_random in /usr/local/lib/python3.11/dist-packages (from numpy>=1.21.0->gymnasium) (1.2.4)\n",
      "Requirement already satisfied: mkl_umath in /usr/local/lib/python3.11/dist-packages (from numpy>=1.21.0->gymnasium) (0.1.1)\n",
      "Requirement already satisfied: mkl in /usr/local/lib/python3.11/dist-packages (from numpy>=1.21.0->gymnasium) (2025.2.0)\n",
      "Requirement already satisfied: tbb4py in /usr/local/lib/python3.11/dist-packages (from numpy>=1.21.0->gymnasium) (2022.2.0)\n",
      "Requirement already satisfied: mkl-service in /usr/local/lib/python3.11/dist-packages (from numpy>=1.21.0->gymnasium) (2.4.1)\n",
      "Requirement already satisfied: intel-openmp<2026,>=2024 in /usr/local/lib/python3.11/dist-packages (from mkl->numpy>=1.21.0->gymnasium) (2024.2.0)\n",
      "Requirement already satisfied: tbb==2022.* in /usr/local/lib/python3.11/dist-packages (from mkl->numpy>=1.21.0->gymnasium) (2022.2.0)\n",
      "Requirement already satisfied: tcmlib==1.* in /usr/local/lib/python3.11/dist-packages (from tbb==2022.*->mkl->numpy>=1.21.0->gymnasium) (1.4.0)\n",
      "Requirement already satisfied: intel-cmplr-lib-rt in /usr/local/lib/python3.11/dist-packages (from mkl_umath->numpy>=1.21.0->gymnasium) (2024.2.0)\n",
      "Requirement already satisfied: intel-cmplr-lib-ur==2024.2.0 in /usr/local/lib/python3.11/dist-packages (from intel-openmp<2026,>=2024->mkl->numpy>=1.21.0->gymnasium) (2024.2.0)\n"
     ]
    }
   ],
   "source": [
    "!pip install gymnasium"
   ]
  },
  {
   "cell_type": "code",
   "execution_count": 2,
   "id": "58e8199a",
   "metadata": {},
   "outputs": [],
   "source": [
    "import torch\n",
    "import torch.nn as nn\n",
    "import torch.optim as optim\n",
    "from collections import deque\n",
    "import random\n",
    "import gymnasium as gym\n",
    "import numpy as np\n",
    "from tqdm import tqdm\n",
    "import matplotlib.pyplot as plt"
   ]
  },
  {
   "cell_type": "code",
   "execution_count": 3,
   "id": "99b93b57",
   "metadata": {},
   "outputs": [],
   "source": [
    "device = 'cuda' if torch.cuda.is_available() else 'cpu'"
   ]
  },
  {
   "cell_type": "code",
   "execution_count": 4,
   "id": "7d1ec144",
   "metadata": {},
   "outputs": [],
   "source": [
    "class DQN(nn.Module):\n",
    "    def __init__(self, state_size, action_size, hidden_size=64, learning_rate=0.001, device=device):\n",
    "        super(DQN, self).__init__()\n",
    "        self.fc1 = nn.Linear(state_size, hidden_size).to(device)\n",
    "        self.fc2 = nn.Linear(hidden_size, hidden_size).to(device)\n",
    "        self.fc3 = nn.Linear(hidden_size, action_size).to(device)\n",
    "                \n",
    "    def forward(self, x):\n",
    "        x = torch.relu(self.fc1(x))\n",
    "        x = torch.relu(self.fc2(x))\n",
    "        x = self.fc3(x)\n",
    "        return x"
   ]
  },
  {
   "cell_type": "code",
   "execution_count": 5,
   "id": "40bdc8eb",
   "metadata": {},
   "outputs": [],
   "source": [
    "class ReplayMemory:\n",
    "    def __init__(self, capacity):\n",
    "        self.capacity = capacity\n",
    "        self.memory = deque(maxlen=capacity)\n",
    "\n",
    "    def append(self, transition):\n",
    "        self.memory.append(transition)\n",
    "\n",
    "    def sample(self, batch_size):\n",
    "        return random.sample(self.memory, batch_size)\n",
    "\n",
    "    def __len__(self):\n",
    "        return len(self.memory)"
   ]
  },
  {
   "cell_type": "code",
   "execution_count": null,
   "id": "b29e9501",
   "metadata": {},
   "outputs": [],
   "source": [
    "class FrozenLakeDQN:\n",
    "    def __init__(self, learning_rate, discount_factor, sync_rate, replay_memory_size, batch_size, device=device):\n",
    "        \n",
    "        self.learning_rate = learning_rate\n",
    "        self.discount_factor = discount_factor\n",
    "        self.sync_rate = sync_rate\n",
    "        self.replay_memory = ReplayMemory(replay_memory_size)\n",
    "        self.batch_size = batch_size\n",
    "        self.optimizer = None\n",
    "        self.loss_fn = nn.MSELoss()\n",
    "        self.device = device\n",
    "        \n",
    "\n",
    "    def train(self, episodes, render=False, is_slippery=False):\n",
    "        env = gym.make(\"FrozenLake-v1\", is_slippery=is_slippery, render_mode='human' if render else None)\n",
    "        n_states = env.observation_space.n\n",
    "        n_actions = env.action_space.n\n",
    "        epsilon = 1\n",
    "        memory = ReplayMemory(self.replay_memory.capacity)\n",
    "\n",
    "        policy_network = DQN(n_states, n_actions, learning_rate=self.learning_rate, device=self.device)\n",
    "        target_network = DQN(n_states, n_actions, learning_rate=self.learning_rate, device=self.device)\n",
    "        target_network.load_state_dict(policy_network.state_dict())\n",
    "        \n",
    "        self.optimizer = optim.Adam(policy_network.parameters(), lr=self.learning_rate)\n",
    "        \n",
    "        episode_rewards = np.zeros(episodes)\n",
    "        epsilon_history = []\n",
    "        step_count = 0\n",
    "        \n",
    "        np.bool8 = bool\n",
    "        \n",
    "        for episode in tqdm(range(episodes)):\n",
    "            state = env.reset()[0]\n",
    "            terminated, truncated = False, False\n",
    "            \n",
    "            while not terminated and not truncated:\n",
    "                if random.random() < epsilon:\n",
    "                    action = env.action_space.sample()\n",
    "                else:\n",
    "                    with torch.no_grad():\n",
    "                        action = policy_network(self.state_to_dqn_input(n_states, state)).argmax().item()\n",
    "\n",
    "                new_state, reward, terminated, truncated, _ = env.step(action)\n",
    "                memory.append((state, action, new_state, reward, terminated))\n",
    "                state = new_state\n",
    "                step_count += 1\n",
    "            \n",
    "            if reward == 1:\n",
    "                episode_rewards[episode] = 1\n",
    "            \n",
    "            if len(memory) > self.batch_size and np.sum(episode_rewards) > 1:\n",
    "                batch = memory.sample(self.batch_size)\n",
    "                self.optimize(batch, policy_network, target_network)\n",
    "                \n",
    "                epsilon = max(epsilon - 1/episodes, 0)\n",
    "                epsilon_history.append(epsilon)\n",
    "                \n",
    "                if step_count % self.sync_rate == 0:\n",
    "                    target_network.load_state_dict(policy_network.state_dict())\n",
    "        \n",
    "        env.close()\n",
    "        \n",
    "        torch.save(policy_network.state_dict(), r\"models\\frozen_lake_dqn.pth\")\n",
    "\n",
    "        plt.figure(1)\n",
    "        sum_rewards = np.zeros(episodes)\n",
    "        for x in range(episodes):\n",
    "            sum_rewards[x] = np.sum(episode_rewards[max(0, x - 100):(x + 1)])\n",
    "        plt.subplot(121)\n",
    "        plt.plot(sum_rewards)\n",
    "\n",
    "        plt.subplot(122)\n",
    "        plt.plot(epsilon_history)\n",
    "        \n",
    "        plt.savefig(r'figures\\frozen_lake_dqn.png')\n",
    "        \n",
    "    def state_to_dqn_input(self, n_states, state):\n",
    "        input_tensor = torch.zeros(n_states).to(self.device)\n",
    "        input_tensor[state] = 1\n",
    "        return input_tensor\n",
    "        \n",
    "    def optimize(self, batch, policy_network, target_network):\n",
    "        n_states = policy_network.fc1.in_features\n",
    "        current_q_list = []\n",
    "        target_q_list = []\n",
    "        for state, action, new_state, reward, terminated in batch:\n",
    "            if terminated:\n",
    "                target = torch.FloatTensor([reward])\n",
    "            else:\n",
    "                target = torch.FloatTensor(\n",
    "                    [\n",
    "                        reward + self.discount_factor * torch.max(target_network(self.state_to_dqn_input(n_states, new_state))).item()\n",
    "                    ]\n",
    "                )\n",
    "            \n",
    "            current_q = policy_network(self.state_to_dqn_input(n_states, state))\n",
    "            current_q_list.append(current_q)\n",
    "            \n",
    "            target_q = target_network(self.state_to_dqn_input(n_states, state))\n",
    "            target_q[action] = target\n",
    "            target_q_list.append(target_q)\n",
    "            \n",
    "        loss = self.loss_fn(torch.stack(current_q_list), torch.stack(target_q_list))\n",
    "        \n",
    "        self.optimizer.zero_grad()\n",
    "        loss.backward()\n",
    "        self.optimizer.step()"
   ]
  },
  {
   "cell_type": "code",
   "execution_count": 11,
   "id": "4d02f7ef",
   "metadata": {},
   "outputs": [],
   "source": [
    "frozen_lake = FrozenLakeDQN(\n",
    "    learning_rate=0.001,\n",
    "    discount_factor=0.99,\n",
    "    sync_rate=100,\n",
    "    replay_memory_size=10000,\n",
    "    batch_size=32\n",
    ")"
   ]
  },
  {
   "cell_type": "code",
   "execution_count": 12,
   "id": "8bf9f380",
   "metadata": {},
   "outputs": [
    {
     "name": "stderr",
     "output_type": "stream",
     "text": [
      "100%|██████████| 1000/1000 [50:47<00:00,  3.05s/it]\n"
     ]
    },
    {
     "data": {
      "image/png": "[encoded data removed]",
      "text/plain": [
       "<Figure size 640x480 with 2 Axes>"
      ]
     },
     "metadata": {},
     "output_type": "display_data"
    }
   ],
   "source": [
    "frozen_lake.train(episodes=1000, render=True, is_slippery=True)"
   ]
  }
 ],
 "metadata": {
  "kernelspec": {
   "display_name": "Python 3 (ipykernel)",
   "language": "python",
   "name": "python3"
  },
  "language_info": {
   "codemirror_mode": {
    "name": "ipython",
    "version": 3
   },
   "file_extension": ".py",
   "mimetype": "text/x-python",
   "name": "python",
   "nbconvert_exporter": "python",
   "pygments_lexer": "ipython3",
   "version": "3.11.13"
  }
 },
 "nbformat": 4,
 "nbformat_minor": 5
}
