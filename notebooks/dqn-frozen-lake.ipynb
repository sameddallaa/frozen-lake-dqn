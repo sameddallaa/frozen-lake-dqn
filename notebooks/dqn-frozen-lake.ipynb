{
 "cells": [
  {
   "cell_type": "code",
   "execution_count": 1,
   "id": "ad980d7b",
   "metadata": {
    "execution": {
     "iopub.execute_input": "2025-08-29T22:48:06.809734Z",
     "iopub.status.busy": "2025-08-29T22:48:06.809459Z",
     "iopub.status.idle": "2025-08-29T22:48:10.682350Z",
     "shell.execute_reply": "2025-08-29T22:48:10.681624Z"
    },
    "papermill": {
     "duration": 3.8783,
     "end_time": "2025-08-29T22:48:10.684556",
     "exception": false,
     "start_time": "2025-08-29T22:48:06.806256",
     "status": "completed"
    },
    "tags": []
   },
   "outputs": [
    {
     "name": "stdout",
     "output_type": "stream",
     "text": [
      "Requirement already satisfied: gymnasium in /usr/local/lib/python3.11/dist-packages (0.29.0)\r\n",
      "Requirement already satisfied: numpy>=1.21.0 in /usr/local/lib/python3.11/dist-packages (from gymnasium) (1.26.4)\r\n",
      "Requirement already satisfied: cloudpickle>=1.2.0 in /usr/local/lib/python3.11/dist-packages (from gymnasium) (3.1.1)\r\n",
      "Requirement already satisfied: typing-extensions>=4.3.0 in /usr/local/lib/python3.11/dist-packages (from gymnasium) (4.14.0)\r\n",
      "Requirement already satisfied: farama-notifications>=0.0.1 in /usr/local/lib/python3.11/dist-packages (from gymnasium) (0.0.4)\r\n",
      "Requirement already satisfied: mkl_fft in /usr/local/lib/python3.11/dist-packages (from numpy>=1.21.0->gymnasium) (1.3.8)\r\n",
      "Requirement already satisfied: mkl_random in /usr/local/lib/python3.11/dist-packages (from numpy>=1.21.0->gymnasium) (1.2.4)\r\n",
      "Requirement already satisfied: mkl_umath in /usr/local/lib/python3.11/dist-packages (from numpy>=1.21.0->gymnasium) (0.1.1)\r\n",
      "Requirement already satisfied: mkl in /usr/local/lib/python3.11/dist-packages (from numpy>=1.21.0->gymnasium) (2025.2.0)\r\n",
      "Requirement already satisfied: tbb4py in /usr/local/lib/python3.11/dist-packages (from numpy>=1.21.0->gymnasium) (2022.2.0)\r\n",
      "Requirement already satisfied: mkl-service in /usr/local/lib/python3.11/dist-packages (from numpy>=1.21.0->gymnasium) (2.4.1)\r\n",
      "Requirement already satisfied: intel-openmp<2026,>=2024 in /usr/local/lib/python3.11/dist-packages (from mkl->numpy>=1.21.0->gymnasium) (2024.2.0)\r\n",
      "Requirement already satisfied: tbb==2022.* in /usr/local/lib/python3.11/dist-packages (from mkl->numpy>=1.21.0->gymnasium) (2022.2.0)\r\n",
      "Requirement already satisfied: tcmlib==1.* in /usr/local/lib/python3.11/dist-packages (from tbb==2022.*->mkl->numpy>=1.21.0->gymnasium) (1.4.0)\r\n",
      "Requirement already satisfied: intel-cmplr-lib-rt in /usr/local/lib/python3.11/dist-packages (from mkl_umath->numpy>=1.21.0->gymnasium) (2024.2.0)\r\n",
      "Requirement already satisfied: intel-cmplr-lib-ur==2024.2.0 in /usr/local/lib/python3.11/dist-packages (from intel-openmp<2026,>=2024->mkl->numpy>=1.21.0->gymnasium) (2024.2.0)\r\n"
     ]
    }
   ],
   "source": [
    "!pip install gymnasium"
   ]
  },
  {
   "cell_type": "code",
   "execution_count": 2,
   "id": "71a0018b",
   "metadata": {
    "execution": {
     "iopub.execute_input": "2025-08-29T22:48:10.689938Z",
     "iopub.status.busy": "2025-08-29T22:48:10.689715Z",
     "iopub.status.idle": "2025-08-29T22:48:15.079769Z",
     "shell.execute_reply": "2025-08-29T22:48:15.078931Z"
    },
    "papermill": {
     "duration": 4.394152,
     "end_time": "2025-08-29T22:48:15.081195",
     "exception": false,
     "start_time": "2025-08-29T22:48:10.687043",
     "status": "completed"
    },
    "tags": []
   },
   "outputs": [],
   "source": [
    "import torch\n",
    "import torch.nn as nn\n",
    "import torch.optim as optim\n",
    "from collections import deque\n",
    "import random\n",
    "import gymnasium as gym\n",
    "from gymnasium.wrappers.record_video import RecordVideo\n",
    "import numpy as np\n",
    "from tqdm import tqdm\n",
    "import matplotlib.pyplot as plt\n",
    "\n",
    "plt.style.use(\"dark_background\")"
   ]
  },
  {
   "cell_type": "code",
   "execution_count": 3,
   "id": "be3d2e1a",
   "metadata": {
    "execution": {
     "iopub.execute_input": "2025-08-29T22:48:15.086334Z",
     "iopub.status.busy": "2025-08-29T22:48:15.085765Z",
     "iopub.status.idle": "2025-08-29T22:48:15.142258Z",
     "shell.execute_reply": "2025-08-29T22:48:15.141703Z"
    },
    "papermill": {
     "duration": 0.059984,
     "end_time": "2025-08-29T22:48:15.143254",
     "exception": false,
     "start_time": "2025-08-29T22:48:15.083270",
     "status": "completed"
    },
    "tags": []
   },
   "outputs": [],
   "source": [
    "device = 'cuda' if torch.cuda.is_available() else 'cpu'"
   ]
  },
  {
   "cell_type": "code",
   "execution_count": 4,
   "id": "f2e8586a",
   "metadata": {
    "execution": {
     "iopub.execute_input": "2025-08-29T22:48:15.148243Z",
     "iopub.status.busy": "2025-08-29T22:48:15.147602Z",
     "iopub.status.idle": "2025-08-29T22:48:15.152323Z",
     "shell.execute_reply": "2025-08-29T22:48:15.151819Z"
    },
    "papermill": {
     "duration": 0.008179,
     "end_time": "2025-08-29T22:48:15.153390",
     "exception": false,
     "start_time": "2025-08-29T22:48:15.145211",
     "status": "completed"
    },
    "tags": []
   },
   "outputs": [],
   "source": [
    "class DQN(nn.Module):\n",
    "    def __init__(self, state_size, action_size, hidden_size=64, learning_rate=0.001, device=device):\n",
    "        super(DQN, self).__init__()\n",
    "        self.fc1 = nn.Linear(state_size, hidden_size).to(device)\n",
    "        self.fc2 = nn.Linear(hidden_size, hidden_size).to(device)\n",
    "        self.fc3 = nn.Linear(hidden_size, action_size).to(device)\n",
    "                \n",
    "    def forward(self, x):\n",
    "        x = torch.relu(self.fc1(x))\n",
    "        x = torch.relu(self.fc2(x))\n",
    "        x = self.fc3(x)\n",
    "        return x"
   ]
  },
  {
   "cell_type": "code",
   "execution_count": 5,
   "id": "2c219e1c",
   "metadata": {
    "execution": {
     "iopub.execute_input": "2025-08-29T22:48:15.157864Z",
     "iopub.status.busy": "2025-08-29T22:48:15.157643Z",
     "iopub.status.idle": "2025-08-29T22:48:15.161468Z",
     "shell.execute_reply": "2025-08-29T22:48:15.160946Z"
    },
    "papermill": {
     "duration": 0.007266,
     "end_time": "2025-08-29T22:48:15.162527",
     "exception": false,
     "start_time": "2025-08-29T22:48:15.155261",
     "status": "completed"
    },
    "tags": []
   },
   "outputs": [],
   "source": [
    "class ReplayMemory:\n",
    "    def __init__(self, capacity):\n",
    "        self.capacity = capacity\n",
    "        self.memory = deque(maxlen=capacity)\n",
    "\n",
    "    def append(self, transition):\n",
    "        self.memory.append(transition)\n",
    "\n",
    "    def sample(self, batch_size):\n",
    "        return random.sample(self.memory, batch_size)\n",
    "\n",
    "    def __len__(self):\n",
    "        return len(self.memory)"
   ]
  },
  {
   "cell_type": "code",
   "execution_count": 6,
   "id": "253cbb81",
   "metadata": {
    "execution": {
     "iopub.execute_input": "2025-08-29T22:48:15.167131Z",
     "iopub.status.busy": "2025-08-29T22:48:15.166922Z",
     "iopub.status.idle": "2025-08-29T22:48:15.182971Z",
     "shell.execute_reply": "2025-08-29T22:48:15.182470Z"
    },
    "papermill": {
     "duration": 0.0197,
     "end_time": "2025-08-29T22:48:15.183984",
     "exception": false,
     "start_time": "2025-08-29T22:48:15.164284",
     "status": "completed"
    },
    "tags": []
   },
   "outputs": [],
   "source": [
    "class FrozenLakeDQN:\n",
    "    def __init__(self, learning_rate, discount_factor, sync_rate, replay_memory_size, batch_size, device=device):\n",
    "        \n",
    "        self.learning_rate = learning_rate\n",
    "        self.discount_factor = discount_factor\n",
    "        self.sync_rate = sync_rate\n",
    "        self.replay_memory = ReplayMemory(replay_memory_size)\n",
    "        self.batch_size = batch_size\n",
    "        self.optimizer = None\n",
    "        self.loss_fn = nn.MSELoss()\n",
    "        self.device = device\n",
    "        \n",
    "\n",
    "    def train(self, episodes, render=False, is_slippery=False):\n",
    "        env = gym.make(\"FrozenLake-v1\", is_slippery=is_slippery, render_mode='human' if render else None)\n",
    "        n_states = env.observation_space.n\n",
    "        n_actions = env.action_space.n\n",
    "        epsilon = 1\n",
    "        memory = ReplayMemory(self.replay_memory.capacity)\n",
    "\n",
    "        policy_network = DQN(n_states, n_actions, learning_rate=self.learning_rate, device=self.device)\n",
    "        target_network = DQN(n_states, n_actions, learning_rate=self.learning_rate, device=self.device)\n",
    "        target_network.load_state_dict(policy_network.state_dict())\n",
    "        \n",
    "        self.optimizer = optim.Adam(policy_network.parameters(), lr=self.learning_rate)\n",
    "        \n",
    "        episode_rewards = np.zeros(episodes)\n",
    "        epsilon_history = []\n",
    "        step_count = 0\n",
    "        \n",
    "        np.bool8 = bool\n",
    "        \n",
    "        for episode in tqdm(range(episodes)):\n",
    "            state = env.reset()[0]\n",
    "            terminated, truncated = False, False\n",
    "            \n",
    "            while not terminated and not truncated:\n",
    "                if random.random() < epsilon:\n",
    "                    action = env.action_space.sample()\n",
    "                else:\n",
    "                    with torch.no_grad():\n",
    "                        action = policy_network(self.state_to_dqn_input(n_states, state)).argmax().item()\n",
    "\n",
    "                new_state, reward, terminated, truncated, _ = env.step(action)\n",
    "                memory.append((state, action, new_state, reward, terminated))\n",
    "                state = new_state\n",
    "                step_count += 1\n",
    "            \n",
    "            if reward == 1:\n",
    "                episode_rewards[episode] = 1\n",
    "            \n",
    "            if len(memory) > self.batch_size and np.sum(episode_rewards) > 1:\n",
    "                batch = memory.sample(self.batch_size)\n",
    "                self.optimize(batch, policy_network, target_network)\n",
    "                \n",
    "                epsilon = max(epsilon - 1/episodes, 0)\n",
    "                epsilon_history.append(epsilon)\n",
    "                \n",
    "                if step_count % self.sync_rate == 0:\n",
    "                    target_network.load_state_dict(policy_network.state_dict())\n",
    "        \n",
    "        env.close()\n",
    "        \n",
    "        torch.save(policy_network.state_dict(), \"/kaggle/working/frozen_lake_dqn.pth\")\n",
    "\n",
    "        plt.figure(figsize=(10, 5))\n",
    "        sum_rewards = np.zeros(episodes)\n",
    "        for x in range(episodes):\n",
    "            sum_rewards[x] = np.sum(episode_rewards[max(0, x - 100):(x + 1)])\n",
    "        plt.subplot(121)\n",
    "        plt.plot(sum_rewards)\n",
    "        plt.title(\"Sum of Rewards (100-episode window)\")\n",
    "        plt.xlabel(\"Episode\")\n",
    "        plt.ylabel(\"Reward Sum\")\n",
    "        \n",
    "        plt.subplot(122)\n",
    "        plt.plot(epsilon_history)\n",
    "        plt.title(\"Epsilon Decay Over Episodes\")\n",
    "        plt.xlabel(\"Episode\")\n",
    "        plt.ylabel(\"Epsilon\")\n",
    "        \n",
    "        plt.tight_layout()\n",
    "        plt.savefig('/kaggle/working/frozen_lake_dqn.png')\n",
    "        plt.close()\n",
    "        \n",
    "    def state_to_dqn_input(self, n_states, state):\n",
    "        input_tensor = torch.zeros(n_states).to(self.device)\n",
    "        input_tensor[state] = 1\n",
    "        return input_tensor\n",
    "        \n",
    "    def optimize(self, batch, policy_network, target_network):\n",
    "        n_states = policy_network.fc1.in_features\n",
    "        current_q_list = []\n",
    "        target_q_list = []\n",
    "        for state, action, new_state, reward, terminated in batch:\n",
    "            if terminated:\n",
    "                target = torch.FloatTensor([reward])\n",
    "            else:\n",
    "                target = torch.FloatTensor(\n",
    "                    [\n",
    "                        reward + self.discount_factor * torch.max(target_network(self.state_to_dqn_input(n_states, new_state))).item()\n",
    "                    ]\n",
    "                )\n",
    "            \n",
    "            current_q = policy_network(self.state_to_dqn_input(n_states, state))\n",
    "            current_q_list.append(current_q)\n",
    "            \n",
    "            target_q = target_network(self.state_to_dqn_input(n_states, state))\n",
    "            target_q[action] = target\n",
    "            target_q_list.append(target_q)\n",
    "            \n",
    "        loss = self.loss_fn(torch.stack(current_q_list), torch.stack(target_q_list))\n",
    "        \n",
    "        self.optimizer.zero_grad()\n",
    "        loss.backward()\n",
    "        self.optimizer.step()\n",
    "    def demo(self, path='/kaggle/working/demo/', is_slippery=False):\n",
    "        env = gym.make(\"FrozenLake-v1\", is_slippery=is_slippery, render_mode='rgb_array')\n",
    "        env = RecordVideo(env, path)\n",
    "        n_states = env.observation_space.n\n",
    "        n_actions = env.action_space.n\n",
    "        \n",
    "        policy_network = DQN(n_states, n_actions, device=self.device)\n",
    "        policy_network.load_state_dict(torch.load(\"/kaggle/working/frozen_lake_dqn.pth\"))\n",
    "        policy_network.eval()\n",
    "\n",
    "        for episode in range(5):\n",
    "            state = env.reset()[0]\n",
    "            terminated, truncated = False, False\n",
    "            while not terminated and not truncated:\n",
    "                with torch.no_grad():\n",
    "                    action = policy_network(self.state_to_dqn_input(n_states, state)).argmax().item()\n",
    "                state, reward, terminated, truncated, _ = env.step(action)\n",
    "        env.close()\n",
    "        print(\"Demo completed.\")"
   ]
  },
  {
   "cell_type": "code",
   "execution_count": 7,
   "id": "6008fdea",
   "metadata": {
    "execution": {
     "iopub.execute_input": "2025-08-29T22:48:15.188285Z",
     "iopub.status.busy": "2025-08-29T22:48:15.188092Z",
     "iopub.status.idle": "2025-08-29T22:48:15.191463Z",
     "shell.execute_reply": "2025-08-29T22:48:15.190803Z"
    },
    "papermill": {
     "duration": 0.006747,
     "end_time": "2025-08-29T22:48:15.192547",
     "exception": false,
     "start_time": "2025-08-29T22:48:15.185800",
     "status": "completed"
    },
    "tags": []
   },
   "outputs": [],
   "source": [
    "frozen_lake = FrozenLakeDQN(\n",
    "    learning_rate=0.001,\n",
    "    discount_factor=0.99,\n",
    "    sync_rate=100,\n",
    "    replay_memory_size=10000,\n",
    "    batch_size=32\n",
    ")"
   ]
  },
  {
   "cell_type": "code",
   "execution_count": 8,
   "id": "71aadc98",
   "metadata": {
    "execution": {
     "iopub.execute_input": "2025-08-29T22:48:15.196917Z",
     "iopub.status.busy": "2025-08-29T22:48:15.196721Z",
     "iopub.status.idle": "2025-08-29T23:28:39.475867Z",
     "shell.execute_reply": "2025-08-29T23:28:39.475262Z"
    },
    "papermill": {
     "duration": 2424.28293,
     "end_time": "2025-08-29T23:28:39.477309",
     "exception": false,
     "start_time": "2025-08-29T22:48:15.194379",
     "status": "completed"
    },
    "tags": []
   },
   "outputs": [
    {
     "name": "stderr",
     "output_type": "stream",
     "text": [
      "  0%|          | 0/1000 [00:00<?, ?it/s]error: XDG_RUNTIME_DIR not set in the environment.\n",
      "100%|██████████| 1000/1000 [40:19<00:00,  2.42s/it]\n"
     ]
    }
   ],
   "source": [
    "frozen_lake.train(episodes=1000, render=True)"
   ]
  },
  {
   "cell_type": "code",
   "execution_count": 9,
   "id": "ff5798d1",
   "metadata": {
    "execution": {
     "iopub.execute_input": "2025-08-29T23:28:39.558470Z",
     "iopub.status.busy": "2025-08-29T23:28:39.558067Z",
     "iopub.status.idle": "2025-08-29T23:28:39.922296Z",
     "shell.execute_reply": "2025-08-29T23:28:39.921454Z"
    },
    "papermill": {
     "duration": 0.405849,
     "end_time": "2025-08-29T23:28:39.923585",
     "exception": false,
     "start_time": "2025-08-29T23:28:39.517736",
     "status": "completed"
    },
    "tags": []
   },
   "outputs": [
    {
     "name": "stderr",
     "output_type": "stream",
     "text": [
      "/usr/local/lib/python3.11/dist-packages/gymnasium/core.py:297: UserWarning: \u001b[33mWARN: env.is_vector_env to get variables from other wrappers is deprecated and will be removed in v1.0, to get this variable you can do `env.unwrapped.is_vector_env` for environment variables or `env.get_attr('is_vector_env')` that will search the reminding wrappers.\u001b[0m\n",
      "  logger.warn(\n",
      "error: XDG_RUNTIME_DIR not set in the environment.\n",
      "/usr/local/lib/python3.11/dist-packages/moviepy/config_defaults.py:1: DeprecationWarning: invalid escape sequence '\\P'\n",
      "  \"\"\"\n"
     ]
    },
    {
     "name": "stdout",
     "output_type": "stream",
     "text": [
      "Moviepy - Building video /kaggle/working/demo/rl-video-episode-0.mp4.\n",
      "Moviepy - Writing video /kaggle/working/demo/rl-video-episode-0.mp4\n",
      "\n"
     ]
    },
    {
     "name": "stderr",
     "output_type": "stream",
     "text": [
      "                                                  \r"
     ]
    },
    {
     "name": "stdout",
     "output_type": "stream",
     "text": [
      "Moviepy - Done !\n",
      "Moviepy - video ready /kaggle/working/demo/rl-video-episode-0.mp4\n",
      "Moviepy - Building video /kaggle/working/demo/rl-video-episode-1.mp4.\n",
      "Moviepy - Writing video /kaggle/working/demo/rl-video-episode-1.mp4\n",
      "\n"
     ]
    },
    {
     "name": "stderr",
     "output_type": "stream",
     "text": [
      "                                                  "
     ]
    },
    {
     "name": "stdout",
     "output_type": "stream",
     "text": [
      "Moviepy - Done !\n",
      "Moviepy - video ready /kaggle/working/demo/rl-video-episode-1.mp4\n",
      "Demo completed.\n"
     ]
    },
    {
     "name": "stderr",
     "output_type": "stream",
     "text": [
      "\r"
     ]
    }
   ],
   "source": [
    "frozen_lake.demo(is_slippery=False)"
   ]
  }
 ],
 "metadata": {
  "kaggle": {
   "accelerator": "gpu",
   "dataSources": [
    {
     "datasetId": 8166286,
     "sourceId": 12906240,
     "sourceType": "datasetVersion"
    }
   ],
   "dockerImageVersionId": 31090,
   "isGpuEnabled": true,
   "isInternetEnabled": true,
   "language": "python",
   "sourceType": "notebook"
  },
  "kernelspec": {
   "display_name": "Python 3 (ipykernel)",
   "language": "python",
   "name": "python3"
  },
  "language_info": {
   "codemirror_mode": {
    "name": "ipython",
    "version": 3
   },
   "file_extension": ".py",
   "mimetype": "text/x-python",
   "name": "python",
   "nbconvert_exporter": "python",
   "pygments_lexer": "ipython3",
   "version": "3.11.13"
  },
  "papermill": {
   "default_parameters": {},
   "duration": 2438.539428,
   "end_time": "2025-08-29T23:28:41.386714",
   "environment_variables": {},
   "exception": null,
   "input_path": "__notebook__.ipynb",
   "output_path": "__notebook__.ipynb",
   "parameters": {},
   "start_time": "2025-08-29T22:48:02.847286",
   "version": "2.6.0"
  }
 },
 "nbformat": 4,
 "nbformat_minor": 5
}
